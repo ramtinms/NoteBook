{
 "metadata": {
  "name": "",
  "signature": "sha256:7938776127cea0af44530869407df1a79081a2392cfb9cf3a844d5eb3bed5167"
 },
 "nbformat": 3,
 "nbformat_minor": 0,
 "worksheets": [
  {
   "cells": [
    {
     "cell_type": "heading",
     "level": 2,
     "metadata": {},
     "source": [
      "Calculus Refresher"
     ]
    },
    {
     "cell_type": "markdown",
     "metadata": {},
     "source": [
      "##Derivative\n",
      "Compute the derivatives with respect to $x$ of the following functions:\n",
      "1. $f(x) = ax + b $    \n",
      "2. $f(x) = ax^2 + b x+ c $\n",
      "3. $f(x) = log(x) $ for $x > 0 $\n",
      "4. $f(x) = ae^{bx}$\n",
      "5. $f(x) = log(\\Sigma_{i=1}^{n} exp(a_ix))$ \n",
      "\n",
      "\n",
      "Now it time for codes :"
     ]
    },
    {
     "cell_type": "code",
     "collapsed": false,
     "input": [
      "from sympy import *\n",
      "import numpy as np\n",
      "x = Symbol('x')\n",
      "a = Symbol('a')\n",
      "b = Symbol('b')\n",
      "y = a*x + b\n",
      "yprime = y.diff(x)\n",
      "yprime\n",
      "#f = lambdify(x, yprime, 'numpy')\n",
      "#f(np.ones(5))\n"
     ],
     "language": "python",
     "metadata": {},
     "outputs": [
      {
       "metadata": {},
       "output_type": "pyout",
       "prompt_number": 5,
       "text": [
        "a"
       ]
      }
     ],
     "prompt_number": 5
    },
    {
     "cell_type": "code",
     "collapsed": false,
     "input": [
      "y = a*x**2 + b\n",
      "yprime = y.diff(x)\n",
      "yprime"
     ],
     "language": "python",
     "metadata": {},
     "outputs": [
      {
       "metadata": {},
       "output_type": "pyout",
       "prompt_number": 7,
       "text": [
        "2*a*x"
       ]
      }
     ],
     "prompt_number": 7
    },
    {
     "cell_type": "code",
     "collapsed": false,
     "input": [
      "y = log(x)\n",
      "yprime = y.diff(x)\n",
      "yprime"
     ],
     "language": "python",
     "metadata": {},
     "outputs": [
      {
       "metadata": {},
       "output_type": "pyout",
       "prompt_number": 8,
       "text": [
        "1/x"
       ]
      }
     ],
     "prompt_number": 8
    },
    {
     "cell_type": "code",
     "collapsed": false,
     "input": [
      "y = a*(E**(b*x))\n",
      "yprime = y.diff(x)\n",
      "yprime"
     ],
     "language": "python",
     "metadata": {},
     "outputs": [
      {
       "metadata": {},
       "output_type": "pyout",
       "prompt_number": 11,
       "text": [
        "a*b*exp(b*x)"
       ]
      }
     ],
     "prompt_number": 11
    },
    {
     "cell_type": "code",
     "collapsed": false,
     "input": [
      "#i = Symbol('i')\n",
      "#a = Matrix([[0,1,2,3,4]])\n",
      "#y = log(Sum(E**(a[i]*x),(i,1,4)))\n",
      "#yprime = y.diff(x)\n",
      "#yprime"
     ],
     "language": "python",
     "metadata": {},
     "outputs": [],
     "prompt_number": 18
    },
    {
     "cell_type": "code",
     "collapsed": false,
     "input": [],
     "language": "python",
     "metadata": {},
     "outputs": [],
     "prompt_number": 17
    },
    {
     "cell_type": "code",
     "collapsed": false,
     "input": [],
     "language": "python",
     "metadata": {},
     "outputs": [],
     "prompt_number": 14
    },
    {
     "cell_type": "code",
     "collapsed": false,
     "input": [],
     "language": "python",
     "metadata": {},
     "outputs": []
    }
   ],
   "metadata": {}
  }
 ]
}